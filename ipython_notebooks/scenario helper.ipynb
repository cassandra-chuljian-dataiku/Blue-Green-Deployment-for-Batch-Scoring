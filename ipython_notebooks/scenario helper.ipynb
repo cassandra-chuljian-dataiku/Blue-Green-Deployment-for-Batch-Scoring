{
  "metadata": {
    "kernelspec": {
      "name": "py-dku-containerized-venv--compute-cpu-small",
      "display_name": "Python in compute-cpu-small (builtin env)",
      "language": "python"
    },
    "hide_input": false,
    "language_info": {
      "name": "python",
      "version": "3.9.18",
      "mimetype": "text/x-python",
      "codemirror_mode": {
        "name": "ipython",
        "version": 3
      },
      "pygments_lexer": "ipython3",
      "nbconvert_exporter": "python",
      "file_extension": ".py"
    },
    "createdOn": 1699551033004,
    "tags": [],
    "creator": "pierre.petrella",
    "customFields": {},
    "modifiedBy": "pierre.petrella"
  },
  "nbformat": 4,
  "nbformat_minor": 1,
  "cells": [
    {
      "execution_count": 0,
      "cell_type": "code",
      "metadata": {},
      "source": [
        "%pylab inline"
      ],
      "outputs": []
    },
    {
      "execution_count": 0,
      "cell_type": "code",
      "metadata": {},
      "source": [
        "import dataiku\nfrom dataiku import pandasutils as pdu\nimport pandas as pd\nfrom dataiku.scenario import Scenario\nimport logging\n\nscenario \u003d Scenario()"
      ],
      "outputs": []
    },
    {
      "execution_count": 0,
      "cell_type": "code",
      "metadata": {},
      "source": [
        "client \u003d dataiku.api_client()\nproject \u003d client.get_default_project()\nproject.get_summary()[\"projectKey\"]"
      ],
      "outputs": []
    },
    {
      "execution_count": 0,
      "cell_type": "code",
      "metadata": {},
      "source": [
        "challenger_r2_dataset \u003d project.get_dataset(f\"challenger_predictions\")\nchallenger_r2 \u003d challenger_r2_dataset.get_metric_history(\"python:R2:Custom Model Metrics\")[\"lastValue\"][\"value\"]\n    "
      ],
      "outputs": []
    },
    {
      "execution_count": 0,
      "cell_type": "code",
      "metadata": {},
      "source": [
        "scenario.get_all_variables()"
      ],
      "outputs": []
    },
    {
      "execution_count": 0,
      "cell_type": "code",
      "metadata": {},
      "source": [
        "scenario_var \u003d {\u0027dip.home\u0027: \u0027/data/dataiku/dss_data\u0027, \u0027dku.install.dir\u0027: \u0027/opt/dataiku-dss-12.3.1\u0027, \u0027instance\u0027: \u0027design_\u0027, \u0027snowflake_warehouse\u0027: \u0027DS_PLATFORM_COMPUTE\u0027, \u0027projectKey\u0027: \u0027DATAIKU_RDP_PROJECT\u0027, \u0027BLUE_SM_ID\u0027: \u0027tXLDWR2b\u0027, \u0027GREEN_SM_ID\u0027: \u0027naPZZE1t\u0027, \u0027BLUE_MES_ID\u0027: \u0027ARFVe8tZ\u0027, \u0027GREEN_MES_ID\u0027: \u002793Og89Gv\u0027, \u0027CHALLENGER_MODEL\u0027: \u0027BLUE\u0027, \u0027CHALLENGER_SPLIT\u0027: 10, \u0027MODEL_STATUS\u0027: \u0027IN DEPLOYMENT\u0027, \u0027logging_level\u0027: \u0027DEBUG\u0027, \u0027emails\u0027: [\u0027pierre.petrella@dataiku.com\u0027], \u0027scenarioTriggerParams\u0027: {}, \u0027scenarioTriggerTime\u0027: 1702897322115, \u0027scenarioTriggerRunId\u0027: \u00272023-12-18-11-02-02-116\u0027, \u0027stepResults\u0027: {}, \u0027scenarioRunURL\u0027: \u0027https://design.ds-platform.ondku.net/projects/DATAIKU_RDP_PROJECT/scenarios/TEST_NEXT_STEPS/runs/list/2023-12-18-11-02-02-120\u0027, \u0027dssURL\u0027: \u0027https://design.ds-platform.ondku.net\u0027, \u0027stepOutcomes\u0027: {}, \u0027outcome\u0027: \u0027N/A\u0027}\nscenario_var"
      ],
      "outputs": []
    },
    {
      "execution_count": 0,
      "cell_type": "code",
      "metadata": {},
      "source": [
        "scenario_var_2 \u003d {\u0027dip.home\u0027: \u0027/data/dataiku/dss_data\u0027, \u0027dku.install.dir\u0027: \u0027/opt/dataiku-dss-12.3.1\u0027, \u0027instance\u0027: \u0027design_\u0027, \u0027snowflake_warehouse\u0027: \u0027DS_PLATFORM_COMPUTE\u0027, \u0027projectKey\u0027: \u0027DATAIKU_RDP_PROJECT\u0027, \u0027BLUE_SM_ID\u0027: \u0027tXLDWR2b\u0027, \u0027GREEN_SM_ID\u0027: \u0027naPZZE1t\u0027, \u0027BLUE_MES_ID\u0027: \u0027ARFVe8tZ\u0027, \u0027GREEN_MES_ID\u0027: \u002793Og89Gv\u0027, \u0027CHALLENGER_MODEL\u0027: \u0027BLUE\u0027, \u0027CHALLENGER_SPLIT\u0027: 10, \u0027MODEL_STATUS\u0027: \u0027IN DEPLOYMENT\u0027, \u0027logging_level\u0027: \u0027DEBUG\u0027, \u0027emails\u0027: [\u0027pierre.petrella@dataiku.com\u0027], \u0027scenarioTriggerParams\u0027: {}, \u0027scenarioTriggerTime\u0027: 1702897322115, \u0027scenarioTriggerRunId\u0027: \u00272023-12-18-11-02-02-116\u0027, \u0027stepResults\u0027: {\u0027build dataset champion_predictions\u0027: {\u0027type\u0027: \u0027STEP_DONE\u0027, \u0027target\u0027: {\u0027type\u0027: \u0027SCENARIO_STEP\u0027, \u0027projectKey\u0027: \u0027DATAIKU_RDP_PROJECT\u0027, \u0027scenarioId\u0027: \u0027TEST_NEXT_STEPS\u0027, \u0027stepId\u0027: \u0027build_0_true_d_DATAIKU_RDP_PROJECT.champion_predictions\u0027}, \u0027start\u0027: 1702897323529, \u0027end\u0027: 1702897336609, \u0027outcome\u0027: \u0027SUCCESS\u0027}}, \u0027stepOutcome_build dataset champion_predictions\u0027: \u0027SUCCESS\u0027, \u0027scenarioRunURL\u0027: \u0027https://design.ds-platform.ondku.net/projects/DATAIKU_RDP_PROJECT/scenarios/TEST_NEXT_STEPS/runs/list/2023-12-18-11-02-02-120\u0027, \u0027dssURL\u0027: \u0027https://design.ds-platform.ondku.net\u0027, \u0027stepOutcomes\u0027: {\u0027build dataset champion_predictions\u0027: \u0027SUCCESS\u0027}, \u0027stepResult_build dataset champion_predictions\u0027: {\u0027type\u0027: \u0027STEP_DONE\u0027, \u0027target\u0027: {\u0027type\u0027: \u0027SCENARIO_STEP\u0027, \u0027projectKey\u0027: \u0027DATAIKU_RDP_PROJECT\u0027, \u0027scenarioId\u0027: \u0027TEST_NEXT_STEPS\u0027, \u0027stepId\u0027: \u0027build_0_true_d_DATAIKU_RDP_PROJECT.champion_predictions\u0027}, \u0027start\u0027: 1702897323529, \u0027end\u0027: 1702897336609, \u0027outcome\u0027: \u0027SUCCESS\u0027}, \u0027outcome\u0027: \u0027N/A\u0027}\nscenario_var_2"
      ],
      "outputs": []
    },
    {
      "cell_type": "markdown",
      "metadata": {},
      "source": [
        "# scenario_step_extracting_info"
      ]
    },
    {
      "execution_count": 0,
      "cell_type": "code",
      "metadata": {},
      "source": [
        "var \u003d {\u0027dip.home\u0027: \u0027/data/dataiku/dss_data\u0027, \u0027dku.install.dir\u0027: \u0027/opt/dataiku-dss-12.3.1\u0027, \u0027instance\u0027: \u0027design_\u0027, \u0027snowflake_warehouse\u0027: \u0027DS_PLATFORM_COMPUTE\u0027, \u0027projectKey\u0027: \u0027DATAIKU_RDP_PROJECT\u0027, \u0027BLUE_SM_ID\u0027: \u0027tXLDWR2b\u0027, \u0027GREEN_SM_ID\u0027: \u0027naPZZE1t\u0027, \u0027BLUE_MES_ID\u0027: \u0027ARFVe8tZ\u0027, \u0027GREEN_MES_ID\u0027: \u002793Og89Gv\u0027, \u0027CHALLENGER_MODEL\u0027: \u0027GREEN\u0027, \u0027CHALLENGER_SPLIT\u0027: 10, \u0027MODEL_STATUS\u0027: \u0027IN DEPLOYMENT\u0027, \u0027logging_level\u0027: \u0027DEBUG\u0027, \u0027emails\u0027: [\u0027pierre.petrella@dataiku.com\u0027], \u0027scenarioTriggerParams\u0027: {}, \u0027scenarioTriggerTime\u0027: 1702898217377, \u0027scenarioTriggerRunId\u0027: \u00272023-12-18-11-16-57-378\u0027, \u0027stepResults\u0027: {\u0027Run champion model custom metrics\u0027: {\u0027type\u0027: \u0027STEP_DONE\u0027, \u0027target\u0027: {\u0027type\u0027: \u0027SCENARIO_STEP\u0027, \u0027projectKey\u0027: \u0027DATAIKU_RDP_PROJECT\u0027, \u0027scenarioId\u0027: \u0027RETRAIN_CHALLENGER\u0027, \u0027stepId\u0027: \u0027check_WARNING_d_DATAIKU_RDP_PROJECT.BLUE_sm_eval_dataset_with_prices\u0027}, \u0027start\u0027: 1702898555073, \u0027end\u0027: 1702898555122, \u0027outcome\u0027: \u0027SUCCESS\u0027}, \u0027Update model deployment status\u0027: {\u0027type\u0027: \u0027STEP_DONE\u0027, \u0027target\u0027: {\u0027type\u0027: \u0027SCENARIO_STEP\u0027, \u0027projectKey\u0027: \u0027DATAIKU_RDP_PROJECT\u0027, \u0027scenarioId\u0027: \u0027RETRAIN_CHALLENGER\u0027, \u0027stepId\u0027: \u0027set_project_vars_MODEL_STATUS\u0027}, \u0027start\u0027: 1702898565164, \u0027end\u0027: 1702898565177, \u0027outcome\u0027: \u0027SUCCESS\u0027}, \u0027Retrain Challenger Model : GREEN\u0027: {\u0027type\u0027: \u0027STEP_DONE\u0027, \u0027target\u0027: {\u0027type\u0027: \u0027SCENARIO_STEP\u0027, \u0027projectKey\u0027: \u0027DATAIKU_RDP_PROJECT\u0027, \u0027scenarioId\u0027: \u0027RETRAIN_CHALLENGER\u0027, \u0027stepId\u0027: \u0027build_0_true_m_DATAIKU_RDP_PROJECT.naPZZE1t\u0027}, \u0027start\u0027: 1702898218820, \u0027end\u0027: 1702898451393, \u0027outcome\u0027: \u0027WARNING\u0027, \u0027warnings\u0027: {\u0027warnings\u0027: {\u0027ML_DIAGNOSTICS_DATASET_SANITY_CHECKS\u0027: {\u0027type\u0027: \u0027ML_DIAGNOSTICS_DATASET_SANITY_CHECKS\u0027, \u0027count\u0027: 3, \u0027stored\u0027: []}}, \u0027totalCount\u0027: 3}}, \u0027Run Champion Evaluation \u0026 Checks\u0027: {\u0027type\u0027: \u0027STEP_DONE\u0027, \u0027target\u0027: {\u0027type\u0027: \u0027SCENARIO_STEP\u0027, \u0027projectKey\u0027: \u0027DATAIKU_RDP_PROJECT\u0027, \u0027scenarioId\u0027: \u0027RETRAIN_CHALLENGER\u0027, \u0027stepId\u0027: \u0027run_scenario_BLUE_MES_AND_CHECKS\u0027}, \u0027start\u0027: 1702898454240, \u0027end\u0027: 1702898525408, \u0027outcome\u0027: \u0027WARNING\u0027}, \u0027Run Challenger Evaluation \u0026 Checks\u0027: {\u0027type\u0027: \u0027STEP_DONE\u0027, \u0027target\u0027: {\u0027type\u0027: \u0027SCENARIO_STEP\u0027, \u0027projectKey\u0027: \u0027DATAIKU_RDP_PROJECT\u0027, \u0027scenarioId\u0027: \u0027RETRAIN_CHALLENGER\u0027, \u0027stepId\u0027: \u0027run_scenario_GREEN_MES_AND_CHECKS\u0027}, \u0027start\u0027: 1702898454213, \u0027end\u0027: 1702898524131, \u0027outcome\u0027: \u0027WARNING\u0027}, \u0027run scenario UPDATE_CHALLENGER_DEPLOYMENT\u0027: {\u0027type\u0027: \u0027STEP_DONE\u0027, \u0027target\u0027: {\u0027type\u0027: \u0027SCENARIO_STEP\u0027, \u0027projectKey\u0027: \u0027DATAIKU_RDP_PROJECT\u0027, \u0027scenarioId\u0027: \u0027RETRAIN_CHALLENGER\u0027, \u0027stepId\u0027: \u0027run_scenario_UPDATE_CHALLENGER_DEPLOYMENT\u0027}, \u0027start\u0027: 1702898570193, \u0027end\u0027: 1702898577024, \u0027outcome\u0027: \u0027SUCCESS\u0027}, \u0027Run challenger model custom metrics\u0027: {\u0027type\u0027: \u0027STEP_DONE\u0027, \u0027target\u0027: {\u0027type\u0027: \u0027SCENARIO_STEP\u0027, \u0027projectKey\u0027: \u0027DATAIKU_RDP_PROJECT\u0027, \u0027scenarioId\u0027: \u0027RETRAIN_CHALLENGER\u0027, \u0027stepId\u0027: \u0027check_WARNING_d_DATAIKU_RDP_PROJECT.GREEN_sm_eval_dataset_with_prices\u0027}, \u0027start\u0027: 1702898560115, \u0027end\u0027: 1702898560165, \u0027outcome\u0027: \u0027SUCCESS\u0027}, \u0027Compute prices for the challenger model\u0027: {\u0027type\u0027: \u0027STEP_DONE\u0027, \u0027target\u0027: {\u0027type\u0027: \u0027SCENARIO_STEP\u0027, \u0027projectKey\u0027: \u0027DATAIKU_RDP_PROJECT\u0027, \u0027scenarioId\u0027: \u0027RETRAIN_CHALLENGER\u0027, \u0027stepId\u0027: \u0027build_0_true_d_DATAIKU_RDP_PROJECT.GREEN_sm_eval_dataset_with_prices\u0027}, \u0027start\u0027: 1702898525926, \u0027end\u0027: 1702898534804, \u0027outcome\u0027: \u0027SUCCESS\u0027}}, \u0027scenarioRunURL\u0027: \u0027https://design.ds-platform.ondku.net/projects/DATAIKU_RDP_PROJECT/scenarios/RETRAIN_CHALLENGER/runs/list/2023-12-18-11-16-57-381\u0027, \u0027stepResult_Run Champion Evaluation \u0026 Checks\u0027: {\u0027type\u0027: \u0027STEP_DONE\u0027, \u0027target\u0027: {\u0027type\u0027: \u0027SCENARIO_STEP\u0027, \u0027projectKey\u0027: \u0027DATAIKU_RDP_PROJECT\u0027, \u0027scenarioId\u0027: \u0027RETRAIN_CHALLENGER\u0027, \u0027stepId\u0027: \u0027run_scenario_BLUE_MES_AND_CHECKS\u0027}, \u0027start\u0027: 1702898454240, \u0027end\u0027: 1702898525408, \u0027outcome\u0027: \u0027WARNING\u0027}, \u0027stepResult_Retrain Challenger Model : GREEN\u0027: {\u0027type\u0027: \u0027STEP_DONE\u0027, \u0027target\u0027: {\u0027type\u0027: \u0027SCENARIO_STEP\u0027, \u0027projectKey\u0027: \u0027DATAIKU_RDP_PROJECT\u0027, \u0027scenarioId\u0027: \u0027RETRAIN_CHALLENGER\u0027, \u0027stepId\u0027: \u0027build_0_true_m_DATAIKU_RDP_PROJECT.naPZZE1t\u0027}, \u0027start\u0027: 1702898218820, \u0027end\u0027: 1702898451393, \u0027outcome\u0027: \u0027WARNING\u0027, \u0027warnings\u0027: {\u0027warnings\u0027: {\u0027ML_DIAGNOSTICS_DATASET_SANITY_CHECKS\u0027: {\u0027type\u0027: \u0027ML_DIAGNOSTICS_DATASET_SANITY_CHECKS\u0027, \u0027count\u0027: 3, \u0027stored\u0027: []}}, \u0027totalCount\u0027: 3}}, \u0027stepResult_Update model deployment status\u0027: {\u0027type\u0027: \u0027STEP_DONE\u0027, \u0027target\u0027: {\u0027type\u0027: \u0027SCENARIO_STEP\u0027, \u0027projectKey\u0027: \u0027DATAIKU_RDP_PROJECT\u0027, \u0027scenarioId\u0027: \u0027RETRAIN_CHALLENGER\u0027, \u0027stepId\u0027: \u0027set_project_vars_MODEL_STATUS\u0027}, \u0027start\u0027: 1702898565164, \u0027end\u0027: 1702898565177, \u0027outcome\u0027: \u0027SUCCESS\u0027}, \u0027stepOutcome_run scenario UPDATE_CHALLENGER_DEPLOYMENT\u0027: \u0027SUCCESS\u0027, \u0027dssURL\u0027: \u0027https://design.ds-platform.ondku.net\u0027, \u0027stepOutcome_Retrain Challenger Model : GREEN\u0027: \u0027WARNING\u0027, \u0027stepOutcome_Run Challenger Evaluation \u0026 Checks\u0027: \u0027WARNING\u0027, \u0027stepOutcome_Run Champion Evaluation \u0026 Checks\u0027: \u0027WARNING\u0027, \u0027stepResult_Compute prices for the challenger model\u0027: {\u0027type\u0027: \u0027STEP_DONE\u0027, \u0027target\u0027: {\u0027type\u0027: \u0027SCENARIO_STEP\u0027, \u0027projectKey\u0027: \u0027DATAIKU_RDP_PROJECT\u0027, \u0027scenarioId\u0027: \u0027RETRAIN_CHALLENGER\u0027, \u0027stepId\u0027: \u0027build_0_true_d_DATAIKU_RDP_PROJECT.GREEN_sm_eval_dataset_with_prices\u0027}, \u0027start\u0027: 1702898525926, \u0027end\u0027: 1702898534804, \u0027outcome\u0027: \u0027SUCCESS\u0027}, \u0027stepOutcomes\u0027: {\u0027Run champion model custom metrics\u0027: \u0027SUCCESS\u0027, \u0027Update model deployment status\u0027: \u0027SUCCESS\u0027, \u0027Retrain Challenger Model : GREEN\u0027: \u0027WARNING\u0027, \u0027Run Champion Evaluation \u0026 Checks\u0027: \u0027WARNING\u0027, \u0027Run Challenger Evaluation \u0026 Checks\u0027: \u0027WARNING\u0027, \u0027run scenario UPDATE_CHALLENGER_DEPLOYMENT\u0027: \u0027SUCCESS\u0027, \u0027Run challenger model custom metrics\u0027: \u0027SUCCESS\u0027, \u0027Compute prices for the challenger model\u0027: \u0027SUCCESS\u0027}, \u0027stepResult_Run challenger model custom metrics\u0027: {\u0027type\u0027: \u0027STEP_DONE\u0027, \u0027target\u0027: {\u0027type\u0027: \u0027SCENARIO_STEP\u0027, \u0027projectKey\u0027: \u0027DATAIKU_RDP_PROJECT\u0027, \u0027scenarioId\u0027: \u0027RETRAIN_CHALLENGER\u0027, \u0027stepId\u0027: \u0027check_WARNING_d_DATAIKU_RDP_PROJECT.GREEN_sm_eval_dataset_with_prices\u0027}, \u0027start\u0027: 1702898560115, \u0027end\u0027: 1702898560165, \u0027outcome\u0027: \u0027SUCCESS\u0027}, \u0027stepOutcome_Compute prices for the challenger model\u0027: \u0027SUCCESS\u0027, \u0027stepOutcome_Update model deployment status\u0027: \u0027SUCCESS\u0027, \u0027stepResult_run scenario UPDATE_CHALLENGER_DEPLOYMENT\u0027: {\u0027type\u0027: \u0027STEP_DONE\u0027, \u0027target\u0027: {\u0027type\u0027: \u0027SCENARIO_STEP\u0027, \u0027projectKey\u0027: \u0027DATAIKU_RDP_PROJECT\u0027, \u0027scenarioId\u0027: \u0027RETRAIN_CHALLENGER\u0027, \u0027stepId\u0027: \u0027run_scenario_UPDATE_CHALLENGER_DEPLOYMENT\u0027}, \u0027start\u0027: 1702898570193, \u0027end\u0027: 1702898577024, \u0027outcome\u0027: \u0027SUCCESS\u0027}, \u0027stepResult_Run Challenger Evaluation \u0026 Checks\u0027: {\u0027type\u0027: \u0027STEP_DONE\u0027, \u0027target\u0027: {\u0027type\u0027: \u0027SCENARIO_STEP\u0027, \u0027projectKey\u0027: \u0027DATAIKU_RDP_PROJECT\u0027, \u0027scenarioId\u0027: \u0027RETRAIN_CHALLENGER\u0027, \u0027stepId\u0027: \u0027run_scenario_GREEN_MES_AND_CHECKS\u0027}, \u0027start\u0027: 1702898454213, \u0027end\u0027: 1702898524131, \u0027outcome\u0027: \u0027WARNING\u0027}, \u0027stepResult_Run champion model custom metrics\u0027: {\u0027type\u0027: \u0027STEP_DONE\u0027, \u0027target\u0027: {\u0027type\u0027: \u0027SCENARIO_STEP\u0027, \u0027projectKey\u0027: \u0027DATAIKU_RDP_PROJECT\u0027, \u0027scenarioId\u0027: \u0027RETRAIN_CHALLENGER\u0027, \u0027stepId\u0027: \u0027check_WARNING_d_DATAIKU_RDP_PROJECT.BLUE_sm_eval_dataset_with_prices\u0027}, \u0027start\u0027: 1702898555073, \u0027end\u0027: 1702898555122, \u0027outcome\u0027: \u0027SUCCESS\u0027}, \u0027stepOutput_Run challenger model custom metrics\u0027: {\u0027DATAIKU_RDP_PROJECT.GREEN_sm_eval_dataset_with_prices_NP\u0027: {\u0027startTime\u0027: 1702898560127, \u0027endTime\u0027: 1702898560152, \u0027runs\u0027: [{\u0027name\u0027: \u0027Check Green R2\u0027, \u0027partition\u0027: \u0027NP\u0027}], \u0027results\u0027: [{\u0027check\u0027: {\u0027metricId\u0027: \u0027python:R2:Custom Model Metrics\u0027, \u0027minimum\u0027: 0.5, \u0027maximum\u0027: 0.0, \u0027softMinimum\u0027: 0.7, \u0027softMaximum\u0027: 0.0, \u0027minimumEnabled\u0027: True, \u0027maximumEnabled\u0027: False, \u0027softMinimumEnabled\u0027: True, \u0027softMaximumEnabled\u0027: False, \u0027type\u0027: \u0027numericRange\u0027, \u0027meta\u0027: {\u0027name\u0027: \u0027Value in range\u0027, \u0027label\u0027: \u0027Check Green R2\u0027}, \u0027computeOnBuildMode\u0027: \u0027PARTITION\u0027}, \u0027value\u0027: {\u0027outcome\u0027: \u0027OK\u0027, \u0027message\u0027: \u00270.9\u0027}}]}}, \u0027stepOutput_Run champion model custom metrics\u0027: {\u0027DATAIKU_RDP_PROJECT.BLUE_sm_eval_dataset_with_prices_NP\u0027: {\u0027startTime\u0027: 1702898555084, \u0027endTime\u0027: 1702898555110, \u0027runs\u0027: [{\u0027name\u0027: \u0027Check Blue R2\u0027, \u0027partition\u0027: \u0027NP\u0027}], \u0027results\u0027: [{\u0027check\u0027: {\u0027metricId\u0027: \u0027python:R2:Custom Model Metrics\u0027, \u0027minimum\u0027: 0.5, \u0027maximum\u0027: 0.0, \u0027softMinimum\u0027: 0.7, \u0027softMaximum\u0027: 0.0, \u0027minimumEnabled\u0027: True, \u0027maximumEnabled\u0027: False, \u0027softMinimumEnabled\u0027: True, \u0027softMaximumEnabled\u0027: False, \u0027type\u0027: \u0027numericRange\u0027, \u0027meta\u0027: {\u0027name\u0027: \u0027Value in range\u0027, \u0027label\u0027: \u0027Check Blue R2\u0027}, \u0027computeOnBuildMode\u0027: \u0027PARTITION\u0027}, \u0027value\u0027: {\u0027outcome\u0027: \u0027OK\u0027, \u0027message\u0027: \u00270.9\u0027}}]}}, \u0027stepOutcome_Run champion model custom metrics\u0027: \u0027SUCCESS\u0027, \u0027stepOutcome_Run challenger model custom metrics\u0027: \u0027SUCCESS\u0027, \u0027outcome\u0027: \u0027N/A\u0027} \nvar.keys()"
      ],
      "outputs": []
    },
    {
      "execution_count": 0,
      "cell_type": "code",
      "metadata": {},
      "source": [
        "var"
      ],
      "outputs": []
    },
    {
      "execution_count": 0,
      "cell_type": "code",
      "metadata": {},
      "source": [
        "print (var[\"stepResults\"].keys())"
      ],
      "outputs": []
    },
    {
      "execution_count": 0,
      "cell_type": "code",
      "metadata": {},
      "source": [
        "step_name \u003d \"Retrain Challenger Model : GREEN\"\nvar[\"stepResults\"][step_name]"
      ],
      "outputs": []
    },
    {
      "execution_count": 0,
      "cell_type": "code",
      "metadata": {},
      "source": [
        "f\"training step Result : {var[f\u0027stepResult_{step_name}\u0027]}\""
      ],
      "outputs": []
    },
    {
      "execution_count": 0,
      "cell_type": "code",
      "metadata": {},
      "source": [
        "var[f\"stepOutcome_{step_name}\"]"
      ],
      "outputs": []
    },
    {
      "execution_count": 0,
      "cell_type": "code",
      "metadata": {},
      "source": [
        "var[f\"stepResult_{step_name}\"]"
      ],
      "outputs": []
    },
    {
      "cell_type": "markdown",
      "metadata": {},
      "source": [
        "## metric names for the MES ##\nAUC\nACCURACY\nAVERAGE_PRECISION\nBUILD_START_DATE\nBUILD_DURATION\nWARNING_COUNT\nBUILD_SUCCESS\nCALIBRATIONLOSS\nDATA_DRIFT\nDATA_DRIFT_PVALUE\nF1\nLOGLOSS\nMAX_PSI\nMETRICS_COMPUTATION_DURATION\nMIN_CHISQUARE\nMIN_KS\nPRECISION\nPREDICTION_DRIFT_CHISQUARE\nPREDICTION_DRIFT_PSI\nRECALL\nUNIVARIATE_DRIFT\nUNIVARIATE_DRIFT\nUNIVARIATE_DRIFT\nUNIVARIATE_DRIFT\nUNIVARIATE_DRIFT\nUNIVARIATE_DRIFT\nUNIVARIATE_DRIFT\nUNIVARIATE_DRIFT"
      ]
    },
    {
      "execution_count": 0,
      "cell_type": "code",
      "metadata": {},
      "source": [
        "for metric in model_eval.get_metrics()[\"metrics\"]:\n    if metric[\"metric\"][\"metricType\"] \u003d\u003d \"AUC\":\n        print(metric[\"metric\"][\"metricType\"])\n        print (metric[\"lastValues\"][0][\"value\"])"
      ],
      "outputs": []
    },
    {
      "execution_count": 0,
      "cell_type": "code",
      "metadata": {},
      "source": [
        "sm."
      ],
      "outputs": []
    },
    {
      "execution_count": 0,
      "cell_type": "code",
      "metadata": {},
      "source": [
        ""
      ],
      "outputs": []
    },
    {
      "execution_count": 0,
      "cell_type": "code",
      "metadata": {},
      "source": [
        "CHALLENGER_MODEL \u003d \"rrr\""
      ],
      "outputs": []
    },
    {
      "execution_count": 0,
      "cell_type": "code",
      "metadata": {},
      "source": [
        "champion, challenger  \u003d (\"BLUE\", \"GREEN\") if CHALLENGER_MODEL \u003d\u003d \"GREEN\" else (\"GREEN\", \"BLUE\")\nprint (champion)\nprint (challenger)"
      ],
      "outputs": []
    },
    {
      "execution_count": 0,
      "cell_type": "code",
      "metadata": {},
      "source": [
        "project \u003d dataiku.Project(dataiku.default_project_key())\n\nBLUE_SM_ID \u003d project.get_variables()[\"standard\"][\"BLUE_SM_ID\"]\nGREEN_SM_ID \u003d project.get_variables()[\"standard\"][\"GREEN_SM_ID\"]\nBLUE_MES_ID \u003d project.get_variables()[\"standard\"][\"BLUE_MES_ID\"]\nGREEND_MES_ID \u003d project.get_variables()[\"standard\"][\"GREEN_MES_ID\"]\nCHALLENGER_MODEL \u003d project.get_variables()[\"standard\"][\"CHALLENGER_MODEL\"]\nCHALLENGER_PERCENTAGE \u003d project.get_variables()[\"standard\"][\"CHALLENGER_SPLIT\"]\nMODEL_STATUS \u003d project.get_variables()[\"standard\"][\"MODEL_STATUS\"]\nprint (BLUE_SM_ID)\nprint (GREEN_SM_ID)\nprint (CHALLENGER_MODEL)"
      ],
      "outputs": []
    },
    {
      "execution_count": 0,
      "cell_type": "code",
      "metadata": {},
      "source": [
        "#Fetch challenger model id\nif CHALLENGER_MODEL \u003d\u003d \"BLUE\":\n    challenger_sm_id, champion_sm_id  \u003d (BLUE_SM_ID, GREEN_SM_ID)\nelif CHALLENGER_MODEL \u003d\u003d \"GREEN\":\n    challenger_sm_id, champion_sm_id  \u003d (GREEN_SM_ID, BLUE_SM_ID)\nelse:\n    raise(f\"CHALLENGER_MODEL {CHALLENGER_MODEL} not recognised, needs to be \u0027GREEN\u0027 or \u0027BLUE\u0027\")"
      ],
      "outputs": []
    },
    {
      "execution_count": 0,
      "cell_type": "code",
      "metadata": {},
      "source": [
        "champion_sm \u003d dataiku.Model(champion_sm_id)\nactive_id \u003d [v[\"versionId\"] for v in champion_sm.list_versions() if v[\"active\"] \u003d\u003d True][0]\nchampion_training_F1 \u003d float(champion_sm.get_version_metrics(active_id).metrics.get_metric_by_id(\"model_perf:F1\")[\"lastValues\"][0][\"value\"])\n"
      ],
      "outputs": []
    },
    {
      "execution_count": 0,
      "cell_type": "code",
      "metadata": {},
      "source": [
        "from blue_green_deployment import (get_project_var, set_project_var, get_logger, get_metric_from_mes)\nget_metric_from_mes(mes_id \u003d BLUE_MES_ID, metric_type \u003d \"F1\")"
      ],
      "outputs": []
    },
    {
      "execution_count": 0,
      "cell_type": "code",
      "metadata": {},
      "source": [
        "CHALLENGER_MODEL \u003d \"BLUE\""
      ],
      "outputs": []
    },
    {
      "execution_count": 0,
      "cell_type": "code",
      "metadata": {},
      "source": [
        "client \u003d dataiku.api_client()\nproject \u003d client.get_default_project()\ndataset \u003d project.get_dataset(f\"{CHALLENGER_MODEL}_sm_eval_dataset_with_prices\")\ndataset.get_metric_history(\"python:R2:Custom Model Metrics\")[\"lastValue\"][\"value\"]"
      ],
      "outputs": []
    },
    {
      "execution_count": 0,
      "cell_type": "code",
      "metadata": {},
      "source": [
        "latest_eval.get_metrics()[\"metrics\"]"
      ],
      "outputs": []
    },
    {
      "execution_count": 0,
      "cell_type": "code",
      "metadata": {},
      "source": [
        "[metric for metric in latest_eval.get_metrics()[\"metrics\"] if metric[\"metric\"][\"metricType\"]\u003d\u003d \"F1\"]"
      ],
      "outputs": []
    },
    {
      "execution_count": 0,
      "cell_type": "code",
      "metadata": {},
      "source": [
        "mes_id \u003d BLUE_MES_ID\nmetric_type \u003d \"F1\"\nclient \u003d dataiku.api_client()\nproject \u003d client.get_default_project()\nmes \u003d project.get_model_evaluation_store(mes_id)\nlatest_eval \u003d mes.get_latest_model_evaluation()\n#for metric in latest_eval.get_metrics()[\"metrics\"]:\nmetric \u003d [metric for metric in latest_eval.get_metrics()[\"metrics\"] if metric[\"metric\"][\"metricType\"]\u003d\u003d metric_type]\nif len(metric)\u003d\u003d0:\n    raise Exception(f\"Metric {metric_type} doesn\u0027t exist\")\nelse:\n    metric \u003d metric[0]\n    data_type \u003d metric[\"lastValues\"][0][\"dataType\"]\n    value \u003d metric[\"lastValues\"][0][\"value\"]\n    if data_type \u003d\u003d \"DOUBLE\":\n        print( float (value))\n    if data_type \u003d\u003d \"BIGINT\":\n        print( int(value))\n    if data_type \u003d\u003d \"BOOLEAN\":\n        print( bool(value))\n    print (value)"
      ],
      "outputs": []
    },
    {
      "execution_count": 0,
      "cell_type": "code",
      "metadata": {},
      "source": [
        ""
      ],
      "outputs": []
    },
    {
      "execution_count": 0,
      "cell_type": "code",
      "metadata": {},
      "source": [
        "project.get_variables()"
      ],
      "outputs": []
    },
    {
      "execution_count": 0,
      "cell_type": "code",
      "metadata": {},
      "source": [
        "challenger_model_id, champion_model_id \u003d (BLUE_SM_ID, GREEN_SM_ID) if CHALLENGER_MODEL \u003d\u003d \"BLUE\" else (GREEN_SM_ID, BLUE_SM_ID) if CHALLENGER_MODEL \u003d\u003d \"GREEN\" else raise(f\"CHALLENGER_MODEL {CHALLENGER_MODEL} not recognised, needs to be \u0027GREEN\u0027 or \u0027BLUE\u0027\")\nprint (challenger_model_id)\nprint (champion_model_id)"
      ],
      "outputs": []
    },
    {
      "execution_count": 0,
      "cell_type": "code",
      "metadata": {},
      "source": [
        "if CHALLENGER_MODEL \u003d\u003d \"BLUE\":\n    challenger_model_id \u003d BLUE_SM_ID\n    champion_model_id \u003d GREEN_SM_ID\nelif CHALLENGER_MODEL \u003d\u003d \"GREEN\":\n    challenger_model_id \u003d GREEN_SM_ID\n    champion_model_id \u003d BLUE_SM_ID\nelse:\n    raise(f\"CHALLENGER_MODEL {CHALLENGER_MODEL} not recognised, needs to be \u0027GREEN\u0027 or \u0027BLUE\u0027\")"
      ],
      "outputs": []
    },
    {
      "execution_count": 0,
      "cell_type": "code",
      "metadata": {},
      "source": [
        "train_ret \u003d scenario.train_model?\n#scenario.train_model(\n#    model_id,\n#    project_key\u003dNone,\n#    build_mode\u003d\u0027RECURSIVE_BUILD\u0027,\n#    step_name\u003dNone,\n#    asynchronous\u003dFalse,\n#    fail_fatal\u003dTrue,\n#    **kwargs,\n#)\n"
      ],
      "outputs": []
    },
    {
      "execution_count": 0,
      "cell_type": "code",
      "metadata": {},
      "source": [
        "scenario.train_model?"
      ],
      "outputs": []
    },
    {
      "execution_count": 0,
      "cell_type": "code",
      "metadata": {},
      "source": [
        "scenario.run_scenario?\n#scenario.run_scenario(\n#    scenario_id,\n#    project_key\u003dNone,\n#    name\u003dNone,\n#    asynchronous\u003dFalse,\n#    fail_fatal\u003dTrue,\n#    **kwargs,\n#)"
      ],
      "outputs": []
    },
    {
      "execution_count": 0,
      "cell_type": "code",
      "metadata": {},
      "source": [
        "CHALLENGER_MODEL \u003d \"BLUE\"\nCHAMPION_MODEL \u003d \"BLUE\" if CHALLENGER_MODEL \u003d\u003d \"GREEN\" else \"GREEN\"\n"
      ],
      "outputs": []
    },
    {
      "execution_count": 0,
      "cell_type": "code",
      "metadata": {},
      "source": [
        "scenario.run_scenario(\n    scenario_id \u003d \"RUN_MES_AND_CHECKS\",\n    name\u003d\"Run Challenger \u0026 Champion Evaluation \u0026 Checks\",\n)"
      ],
      "outputs": []
    },
    {
      "execution_count": 0,
      "cell_type": "code",
      "metadata": {},
      "source": [
        ""
      ],
      "outputs": []
    },
    {
      "execution_count": 0,
      "cell_type": "code",
      "metadata": {},
      "source": [
        ""
      ],
      "outputs": []
    }
  ]
}