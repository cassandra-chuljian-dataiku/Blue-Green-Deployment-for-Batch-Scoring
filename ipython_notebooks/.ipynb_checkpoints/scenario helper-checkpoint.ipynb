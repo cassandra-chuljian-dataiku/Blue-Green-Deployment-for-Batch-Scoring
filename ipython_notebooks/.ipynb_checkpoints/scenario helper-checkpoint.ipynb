{
  "metadata": {
    "kernelspec": {
      "name": "py-dku-containerized-venv--compute-cpu-small",
      "display_name": "Python in compute-cpu-small (builtin env)",
      "language": "python"
    },
    "hide_input": false,
    "language_info": {
      "name": "python",
      "version": "3.9.18",
      "mimetype": "text/x-python",
      "codemirror_mode": {
        "name": "ipython",
        "version": 3
      },
      "pygments_lexer": "ipython3",
      "nbconvert_exporter": "python",
      "file_extension": ".py"
    },
    "modifiedBy": "pierre.petrella",
    "creator": "pierre.petrella",
    "createdOn": 1699551033004,
    "customFields": {},
    "tags": []
  },
  "nbformat": 4,
  "nbformat_minor": 1,
  "cells": [
    {
      "execution_count": 0,
      "cell_type": "code",
      "metadata": {},
      "source": [
        "%pylab inline"
      ],
      "outputs": []
    },
    {
      "execution_count": 0,
      "cell_type": "code",
      "metadata": {},
      "source": [
        "import dataiku\nfrom dataiku import pandasutils as pdu\nimport pandas as pd\nfrom dataiku.scenario import Scenario\nimport logging\n\nscenario \u003d Scenario()"
      ],
      "outputs": []
    },
    {
      "execution_count": 0,
      "cell_type": "code",
      "metadata": {},
      "source": [
        "logging.basicConfig(level\u003dlogging.INFO)"
      ],
      "outputs": []
    },
    {
      "execution_count": 0,
      "cell_type": "code",
      "metadata": {},
      "source": [
        "scenario.build_evaluation_store?"
      ],
      "outputs": []
    },
    {
      "execution_count": 0,
      "cell_type": "code",
      "metadata": {},
      "source": [
        "scenario.set_scenario_variables?"
      ],
      "outputs": []
    },
    {
      "execution_count": 0,
      "cell_type": "code",
      "metadata": {},
      "source": [
        "scenario.build_evaluation_store?"
      ],
      "outputs": []
    },
    {
      "execution_count": 0,
      "cell_type": "code",
      "metadata": {},
      "source": [
        "scenario.build_dataset?"
      ],
      "outputs": []
    },
    {
      "execution_count": 0,
      "cell_type": "code",
      "metadata": {},
      "source": [
        "dataiku.get_custom_variables()"
      ],
      "outputs": []
    },
    {
      "execution_count": 0,
      "cell_type": "code",
      "metadata": {},
      "source": [
        "# MES testing"
      ],
      "outputs": []
    },
    {
      "execution_count": 0,
      "cell_type": "code",
      "metadata": {},
      "source": [
        "dataiku.default_project_key()"
      ],
      "outputs": []
    },
    {
      "execution_count": 0,
      "cell_type": "code",
      "metadata": {},
      "source": [
        "core_project \u003d dataiku.Project(dataiku.default_project_key())\ncore_project.get_check_history?"
      ],
      "outputs": []
    },
    {
      "execution_count": 0,
      "cell_type": "code",
      "metadata": {},
      "source": [
        "client \u003d dataiku.api_client()\nproject \u003d client.get_default_project()\nmes \u003d project.get_model_evaluation_store(\"ARFVe8tZ\")"
      ],
      "outputs": []
    },
    {
      "execution_count": 0,
      "cell_type": "code",
      "metadata": {},
      "source": [
        "model_eval \u003d mes.get_latest_model_evaluation()\ndrift \u003d model_eval.compute_drift()"
      ],
      "outputs": []
    },
    {
      "execution_count": 0,
      "cell_type": "code",
      "metadata": {},
      "source": [
        "drift.get_raw()"
      ],
      "outputs": []
    },
    {
      "cell_type": "markdown",
      "metadata": {},
      "source": [
        "AUC\nACCURACY\nAVERAGE_PRECISION\nBUILD_START_DATE\nBUILD_DURATION\nWARNING_COUNT\nBUILD_SUCCESS\nCALIBRATIONLOSS\nDATA_DRIFT\nDATA_DRIFT_PVALUE\nF1\nLOGLOSS\nMAX_PSI\nMETRICS_COMPUTATION_DURATION\nMIN_CHISQUARE\nMIN_KS\nPRECISION\nPREDICTION_DRIFT_CHISQUARE\nPREDICTION_DRIFT_PSI\nRECALL\nUNIVARIATE_DRIFT\nUNIVARIATE_DRIFT\nUNIVARIATE_DRIFT\nUNIVARIATE_DRIFT\nUNIVARIATE_DRIFT\nUNIVARIATE_DRIFT\nUNIVARIATE_DRIFT\nUNIVARIATE_DRIFT"
      ]
    },
    {
      "execution_count": 0,
      "cell_type": "code",
      "metadata": {},
      "source": [
        "for metric in model_eval.get_metrics()[\"metrics\"]:\n    if metric[\"metric\"][\"metricType\"] \u003d\u003d \"AUC\":\n        print(metric[\"metric\"][\"metricType\"])\n        print (metric[\"lastValues\"][0][\"value\"])"
      ],
      "outputs": []
    },
    {
      "execution_count": 0,
      "cell_type": "code",
      "metadata": {},
      "source": [
        ""
      ],
      "outputs": []
    },
    {
      "execution_count": 0,
      "cell_type": "code",
      "metadata": {},
      "source": [
        ""
      ],
      "outputs": []
    },
    {
      "execution_count": 0,
      "cell_type": "code",
      "metadata": {},
      "source": [
        "CHALLENGER_MODEL \u003d \"GREEN\""
      ],
      "outputs": []
    },
    {
      "execution_count": 0,
      "cell_type": "code",
      "metadata": {},
      "source": [
        "champion, challenger  \u003d (\"BLUE\", \"GREEN\") if CHALLENGER_MODEL \u003d\u003d \"GREEN\" else (\"GREEN\", \"BLUE\")\nprint (champion)\nprint (challenger)"
      ],
      "outputs": []
    },
    {
      "execution_count": 0,
      "cell_type": "code",
      "metadata": {},
      "source": [
        "project \u003d dataiku.Project(dataiku.default_project_key())\n\nBLUE_SM_ID \u003d project.get_variables()[\"standard\"][\"BLUE_SM_ID\"]\nGREEN_SM_ID \u003d project.get_variables()[\"standard\"][\"GREEN_SM_ID\"]\nCHALLENGER_MODEL \u003d project.get_variables()[\"standard\"][\"CHALLENGER_MODEL\"]\nCHALLENGER_PERCENTAGE \u003d project.get_variables()[\"standard\"][\"CHALLENGER_PERCENTAGE\"]\nMODEL_STATUS \u003d project.get_variables()[\"standard\"][\"MODEL_STATUS\"]\n"
      ],
      "outputs": []
    },
    {
      "execution_count": 0,
      "cell_type": "code",
      "metadata": {},
      "source": [
        "project.get_variables()"
      ],
      "outputs": []
    },
    {
      "execution_count": 0,
      "cell_type": "code",
      "metadata": {},
      "source": [
        "l \u003d [4,5]\n"
      ],
      "outputs": []
    },
    {
      "execution_count": 0,
      "cell_type": "code",
      "metadata": {},
      "source": [
        "if CHALLENGER_MODEL \u003d\u003d \"BLUE\":\n    challenger_model_id \u003d BLUE_SM_ID\n    champion_model_id \u003d GREEN_SM_ID\nelif CHALLENGER_MODEL \u003d\u003d \"GREEN\":\n    challenger_model_id \u003d GREEN_SM_ID\n    champion_model_id \u003d BLUE_SM_ID\nelse:\n    raise(f\"CHALLENGER_MODEL {CHALLENGER_MODEL} not recognised, needs to be \u0027GREEN\u0027 or \u0027BLUE\u0027\")"
      ],
      "outputs": []
    },
    {
      "execution_count": 0,
      "cell_type": "code",
      "metadata": {},
      "source": [
        "train_ret \u003d scenario.train_model?\n#scenario.train_model(\n#    model_id,\n#    project_key\u003dNone,\n#    build_mode\u003d\u0027RECURSIVE_BUILD\u0027,\n#    step_name\u003dNone,\n#    asynchronous\u003dFalse,\n#    fail_fatal\u003dTrue,\n#    **kwargs,\n#)\n"
      ],
      "outputs": []
    },
    {
      "execution_count": 0,
      "cell_type": "code",
      "metadata": {},
      "source": [
        "sm_champion \u003d dataiku.Model(champion_model_id)"
      ],
      "outputs": []
    },
    {
      "execution_count": 0,
      "cell_type": "code",
      "metadata": {},
      "source": [
        "scenario.run_scenario?\n#scenario.run_scenario(\n#    scenario_id,\n#    project_key\u003dNone,\n#    name\u003dNone,\n#    asynchronous\u003dFalse,\n#    fail_fatal\u003dTrue,\n#    **kwargs,\n#)"
      ],
      "outputs": []
    },
    {
      "execution_count": 0,
      "cell_type": "code",
      "metadata": {},
      "source": [
        "scenario.run_scenario("
      ],
      "outputs": []
    },
    {
      "execution_count": 0,
      "cell_type": "code",
      "metadata": {},
      "source": [
        ""
      ],
      "outputs": []
    },
    {
      "execution_count": 0,
      "cell_type": "code",
      "metadata": {},
      "source": [
        ""
      ],
      "outputs": []
    },
    {
      "execution_count": 0,
      "cell_type": "code",
      "metadata": {},
      "source": [
        ""
      ],
      "outputs": []
    }
  ]
}